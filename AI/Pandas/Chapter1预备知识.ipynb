{
 "cells": [
  {
   "cell_type": "markdown",
   "id": "fd409405",
   "metadata": {},
   "source": [
    "# P3 练一练"
   ]
  },
  {
   "cell_type": "code",
   "execution_count": 6,
   "id": "9b79b2c4",
   "metadata": {},
   "outputs": [
    {
     "data": {
      "text/plain": [
       "{'apple': 5, 'banana': 6, 'peach': 5, 'pineapple': 9, 'watermelon': 10}"
      ]
     },
     "execution_count": 6,
     "metadata": {},
     "output_type": "execute_result"
    }
   ],
   "source": [
    "en_list = [\"apple\", \"banana\", \"peach\", \"pineapple\", \"watermelon\"]\n",
    "en_dict = {word: len(word) for word in en_list}\n",
    "en_dict"
   ]
  },
  {
   "cell_type": "markdown",
   "id": "58a437e4",
   "metadata": {},
   "source": [
    "# p4 练一练"
   ]
  },
  {
   "cell_type": "code",
   "execution_count": 28,
   "id": "de6c78ae",
   "metadata": {},
   "outputs": [],
   "source": [
    "import random \n",
    "random.seed(0)\n",
    "n = 10000\n",
    "L1 = [[random.randint(-n,n) for j in range(20)] for i in range(30)]\n",
    "L2 = [[random.randint(-n,n) for j in range(20)] for i in range(30)]\n",
    "L3 = [[random.randint(-n,n) for j in range(20)] for i in range(30)]\n",
    "L_new = [[min(L1[i][j],L2[i][j],L3[i][j],) for j in range(20)]for i in range(30)]"
   ]
  },
  {
   "cell_type": "markdown",
   "id": "ea3d4dd1",
   "metadata": {},
   "source": [
    "# p5 练一练"
   ]
  },
  {
   "cell_type": "code",
   "execution_count": 31,
   "id": "7565be17",
   "metadata": {},
   "outputs": [
    {
     "data": {
      "text/plain": [
       "[[3, 4, 5], [6], [9]]"
      ]
     },
     "execution_count": 31,
     "metadata": {},
     "output_type": "execute_result"
    }
   ],
   "source": [
    "my_list = [[1, 2], [3, 4, 5], [6], [7, 8], [9]]\n",
    "list(filter(lambda x:any(i%3==0 for i in x),my_list))"
   ]
  },
  {
   "cell_type": "markdown",
   "id": "acfc29ea",
   "metadata": {},
   "source": [
    "# p14 练一练"
   ]
  },
  {
   "cell_type": "code",
   "execution_count": 2,
   "id": "53817b7b",
   "metadata": {},
   "outputs": [
    {
     "data": {
      "text/plain": [
       "True"
      ]
     },
     "execution_count": 2,
     "metadata": {},
     "output_type": "execute_result"
    }
   ],
   "source": [
    "import numpy as np\n",
    "# split()函数更类似于concatenate()的逆操作，首先stack必须由多个尺寸相同的数组来拼接\n",
    "# 新产生的维度大小取决于拼接数组的数量，而concatenate的被拼接数组在拼接维度上可以不一致且不会产生新维度\n",
    "\n",
    "arr = np.random.rand(10,20,30)\n",
    "arr_new = np.concatenate(np.split(arr, indices_or_sections=5, axis=1),axis=1)\n",
    "(arr == arr_new).all()"
   ]
  },
  {
   "cell_type": "markdown",
   "id": "6dc72822",
   "metadata": {},
   "source": [
    "# p15 练一练"
   ]
  },
  {
   "cell_type": "code",
   "execution_count": 5,
   "id": "3050c878",
   "metadata": {},
   "outputs": [
    {
     "name": "stdout",
     "output_type": "stream",
     "text": [
      "[[ 1  1  1  1  1  1  1  1  1  1]\n",
      " [ 2  2  2  2  2  2  2  2  2  2]\n",
      " [ 3  3  3  3  3  3  3  3  3  3]\n",
      " [ 4  4  4  4  4  4  4  4  4  4]\n",
      " [ 5  5  5  5  5  5  5  5  5  5]\n",
      " [ 6  6  6  6  6  6  6  6  6  6]\n",
      " [ 7  7  7  7  7  7  7  7  7  7]\n",
      " [ 8  8  8  8  8  8  8  8  8  8]\n",
      " [ 9  9  9  9  9  9  9  9  9  9]\n",
      " [10 10 10 10 10 10 10 10 10 10]]\n",
      "[[ 1  2  3  4  5  6  7  8  9 10]\n",
      " [ 1  2  3  4  5  6  7  8  9 10]\n",
      " [ 1  2  3  4  5  6  7  8  9 10]\n",
      " [ 1  2  3  4  5  6  7  8  9 10]\n",
      " [ 1  2  3  4  5  6  7  8  9 10]\n",
      " [ 1  2  3  4  5  6  7  8  9 10]\n",
      " [ 1  2  3  4  5  6  7  8  9 10]\n",
      " [ 1  2  3  4  5  6  7  8  9 10]\n",
      " [ 1  2  3  4  5  6  7  8  9 10]\n",
      " [ 1  2  3  4  5  6  7  8  9 10]]\n"
     ]
    }
   ],
   "source": [
    "import numpy as np\n",
    "arr = np.arange(1,11)\n",
    "rep_1 = np.repeat(arr[:,None],10,-1)\n",
    "print(rep_1)\n",
    "rep_2 = np.repeat(arr[None,:],10,0)\n",
    "print(rep_2)"
   ]
  },
  {
   "cell_type": "markdown",
   "id": "bc819524",
   "metadata": {},
   "source": [
    "# p16 练一练"
   ]
  },
  {
   "cell_type": "code",
   "execution_count": 11,
   "id": "8a0ea551",
   "metadata": {},
   "outputs": [
    {
     "name": "stdout",
     "output_type": "stream",
     "text": [
      "[[0.11146592 0.22154628 0.81564462 0.92802823 0.35052548]\n",
      " [0.17388639 0.32958233 0.20550496 0.69422004 0.64507786]\n",
      " [0.23080389 0.36966191 0.99560592 0.13064371 0.72175262]\n",
      " [0.4394452  0.46073665 0.90982901 0.97266229 0.96800724]\n",
      " [0.17485086 0.80183161 0.13659289 0.76195008 0.03543626]\n",
      " [0.53732915 0.69831498 0.24044039 0.16598343 0.34455388]\n",
      " [0.84028273 0.45600868 0.28311289 0.46146429 0.69497182]\n",
      " [0.5935381  0.51512094 0.80164462 0.21294361 0.97860625]\n",
      " [0.08963843 0.74222478 0.63427553 0.11180069 0.85992604]\n",
      " [0.06077229 0.60875632 0.60779286 0.60506006 0.27490406]]\n"
     ]
    },
    {
     "data": {
      "text/plain": [
       "array([[0.74222478, 0.11180069],\n",
       "       [0.69831498, 0.16598343],\n",
       "       [0.36966191, 0.13064371]])"
      ]
     },
     "execution_count": 11,
     "metadata": {},
     "output_type": "execute_result"
    }
   ],
   "source": [
    "arr = np.random.rand(10,5)\n",
    "print(arr)\n",
    "arr[-2:-10:-3,1:-1:2]"
   ]
  },
  {
   "cell_type": "markdown",
   "id": "e2025247",
   "metadata": {},
   "source": [
    "# p19 练一练"
   ]
  },
  {
   "cell_type": "code",
   "execution_count": 19,
   "id": "14983b20",
   "metadata": {},
   "outputs": [
    {
     "name": "stdout",
     "output_type": "stream",
     "text": [
      "[[4 2 3]\n",
      " [4 4 2]\n",
      " [4 3 4]\n",
      " [3 3 1]\n",
      " [1 1 2]]\n",
      "[25 20 30]\n"
     ]
    },
    {
     "data": {
      "text/plain": [
       "array([[100,  40,  90],\n",
       "       [100,  80,  60],\n",
       "       [100,  60, 120],\n",
       "       [ 75,  60,  30],\n",
       "       [ 25,  20,  60]])"
      ]
     },
     "execution_count": 19,
     "metadata": {},
     "output_type": "execute_result"
    }
   ],
   "source": [
    "# 假设顾客购买某件商品的件数为0-4\n",
    "piece = np.random.randint(0,5,(5,3))\n",
    "price = np.array([25,20,30]) # 假设给定的单价是25、20和30\n",
    "price[:, None] # newaxis即None\n",
    "price.reshape(-1, 1)\n",
    "np.expand_dims(price, -1)\n",
    "print(piece)\n",
    "print(price)\n",
    "piece*price"
   ]
  },
  {
   "cell_type": "markdown",
   "id": "c5811c80",
   "metadata": {},
   "source": [
    "# p20 练一练"
   ]
  },
  {
   "cell_type": "code",
   "execution_count": 25,
   "id": "fa31dd31",
   "metadata": {},
   "outputs": [
    {
     "name": "stdout",
     "output_type": "stream",
     "text": [
      "(3,)\n",
      "[[[31 36 37 29]\n",
      "  [35 37 37 20]\n",
      "  [21 29 26 21]]\n",
      "\n",
      " [[24 37 33 24]\n",
      "  [23 24 23 36]\n",
      "  [23 37 25 25]]]\n"
     ]
    },
    {
     "data": {
      "text/plain": [
       "array([251, 235, 207])"
      ]
     },
     "execution_count": 25,
     "metadata": {},
     "output_type": "execute_result"
    }
   ],
   "source": [
    "my_martix = np.random.randint(20,40,24).reshape(2,3,4)\n",
    "print(my_martix.sum((0,2)).shape)\n",
    "print(my_martix)\n",
    "my_martix.sum((0,2))"
   ]
  },
  {
   "cell_type": "markdown",
   "id": "f7497c59",
   "metadata": {},
   "source": [
    "# p21 练一练"
   ]
  },
  {
   "cell_type": "code",
   "execution_count": 28,
   "id": "d4870392",
   "metadata": {
    "scrolled": true
   },
   "outputs": [
    {
     "name": "stdout",
     "output_type": "stream",
     "text": [
      "[[1.01257377 1.07577016 2.39698383 1.67921095]\n",
      " [1.83591261 1.29710264 2.03407942 1.09561583]\n",
      " [1.39763445 1.52693373 2.0128098  1.72100057]\n",
      " [1.39964053 1.21254445 2.24061827 2.70196464]]\n"
     ]
    },
    {
     "data": {
      "text/plain": [
       "array([[0.16425783, 0.17450943, 0.38883426, 0.27239848],\n",
       "       [0.29314984, 0.20711522, 0.32479218, 0.17494276],\n",
       "       [0.20990613, 0.22932516, 0.30229729, 0.25847142],\n",
       "       [0.18526585, 0.16050056, 0.29658334, 0.35765025]])"
      ]
     },
     "execution_count": 28,
     "metadata": {},
     "output_type": "execute_result"
    }
   ],
   "source": [
    "arr = np.random.rand(4,4)\n",
    "exp_arr=np.exp(arr)\n",
    "res = exp_arr / exp_arr.sum(1)[:,None]\n",
    "print(exp_arr)\n",
    "res"
   ]
  },
  {
   "cell_type": "markdown",
   "id": "f56b4d04",
   "metadata": {},
   "source": [
    "# p22 练一练"
   ]
  },
  {
   "cell_type": "code",
   "execution_count": 43,
   "id": "bbcc3523",
   "metadata": {},
   "outputs": [
    {
     "name": "stdout",
     "output_type": "stream",
     "text": [
      "[ True]\n",
      "[False]\n",
      "[ True]\n",
      "[[ True  True]\n",
      " [ True False]]\n"
     ]
    }
   ],
   "source": [
    "#1\n",
    "a = np.array([True])\n",
    "b = np.array([False])\n",
    "\n",
    "print(~a | a) # 说明not优先级高于or\n",
    "\n",
    "print(~b & b) # 说明not优先级高于and\n",
    "\n",
    "print(a | b & b) # 说明and优先级高于or\n",
    "\n",
    "a = np.array([True, False])\n",
    "b = np.array([True, False])\n",
    "print(a | b[:, None]) # 广播\n",
    "\n",
    "a = np.random.randint(0, 100, (5, 5))\n",
    "np.where(a == a.max(1)[:, None], 1, 0)\n",
    "\n",
    "\n",
    "\n",
    "#2\n",
    "my_array = np.random.rand(1000, 3)\n",
    "arr = my_array.round()\n",
    "arr_1 = arr[arr.sum(1) <= 1]  # 行元素至多有一个1\n",
    "arr_2 = arr[~arr.all(1)]    #行元素至少有一个0\n",
    "arr_3 = arr[~arr.all(1) & ~(1-arr).all(1)] #行元素既非全0又非全1"
   ]
  },
  {
   "cell_type": "markdown",
   "id": "718c9dd0",
   "metadata": {},
   "source": [
    "# p23 练一练"
   ]
  },
  {
   "cell_type": "code",
   "execution_count": 45,
   "id": "99b25f7b",
   "metadata": {},
   "outputs": [
    {
     "data": {
      "text/plain": [
       "array([2, 2, 3, 4, 4])"
      ]
     },
     "execution_count": 45,
     "metadata": {},
     "output_type": "execute_result"
    }
   ],
   "source": [
    "arr = np.array([1, 2, 3, 4, 5])\n",
    "np.clip(arr,2,4)\n",
    "res = np.where(arr<=4, arr, 4)\n",
    "res = np.where(arr>=2, res, 2)\n",
    "res"
   ]
  },
  {
   "cell_type": "markdown",
   "id": "78a71cf7",
   "metadata": {},
   "source": [
    "# p24 练一练"
   ]
  },
  {
   "cell_type": "code",
   "execution_count": 50,
   "id": "2e1fc0a5",
   "metadata": {},
   "outputs": [
    {
     "data": {
      "text/plain": [
       "array([1, 2])"
      ]
     },
     "execution_count": 50,
     "metadata": {},
     "output_type": "execute_result"
    }
   ],
   "source": [
    "a = np.array([[0,1],[0,2]])\n",
    "# x为所有非零元素在dim=0上的索引，y为所有元素在dim=1上的索引\n",
    "x, y = np.nonzero(a)\n",
    "a[x, y]"
   ]
  },
  {
   "cell_type": "markdown",
   "id": "f6de708b",
   "metadata": {},
   "source": [
    "# 习题"
   ]
  },
  {
   "cell_type": "code",
   "execution_count": 65,
   "id": "65899e64",
   "metadata": {},
   "outputs": [
    {
     "name": "stdout",
     "output_type": "stream",
     "text": [
      "[[0 1 2]\n",
      " [3 4 5]]\n",
      "[[0 1]\n",
      " [2 3]\n",
      " [4 5]]\n"
     ]
    },
    {
     "data": {
      "text/plain": [
       "[[10, 13], [28, 40]]"
      ]
     },
     "execution_count": 65,
     "metadata": {},
     "output_type": "execute_result"
    }
   ],
   "source": [
    "# 1.基于列表推导式的矩阵乘法\n",
    "# 在numpy中可以使用“@”符号来进行矩阵乘法\n",
    "A = np.arange(6).reshape(2,-1)\n",
    "B = np.arange(6).reshape(3,-1)\n",
    "print(A)\n",
    "print(B)\n",
    "# 列表推导式\n",
    "res = [\n",
    "    [\n",
    "        sum(\n",
    "            A[i][k] * B[k][j]\n",
    "            for k in range(A.shape[1])\n",
    "        )\n",
    "        for j in range(B.shape[1])\n",
    "    ] for i in range(A.shape[0])\n",
    "]\n",
    "res"
   ]
  },
  {
   "cell_type": "code",
   "execution_count": 77,
   "id": "c447692b",
   "metadata": {},
   "outputs": [
    {
     "name": "stdout",
     "output_type": "stream",
     "text": [
      "[[15 10 13 13 17]\n",
      " [19 13 15 12 14]\n",
      " [17 16 18 18 11]\n",
      " [16 17 17 18 11]\n",
      " [15 19 18 19 14]\n",
      " [13 10 13 15 10]\n",
      " [12 13 18 11 13]\n",
      " [13 13 17 10 11]]\n"
     ]
    },
    {
     "data": {
      "text/plain": [
       "11.842696601945802"
      ]
     },
     "execution_count": 77,
     "metadata": {},
     "output_type": "execute_result"
    }
   ],
   "source": [
    "# 2.计算卡方统计量\n",
    "np.random.seed(0)\n",
    "A = np.random.randint(10,20,(8,5))\n",
    "print(A)\n",
    "B = A.sum(0) * A.sum(1)[:,None] / A.sum()\n",
    "res = ((A - B)**2/B).sum()\n",
    "res"
   ]
  },
  {
   "cell_type": "code",
   "execution_count": 82,
   "id": "2bdebfeb",
   "metadata": {},
   "outputs": [
    {
     "data": {
      "text/plain": [
       "array([[8371, 8368, 8358, 8349, 8359, 8358, 8364, 8356, 8347, 8340, 8332,\n",
       "        8338],\n",
       "       [8343, 8333, 8335, 8337, 8342, 8332, 8331, 8322, 8318, 8327, 8329,\n",
       "        8333],\n",
       "       [8341, 8346, 8343, 8343, 8336, 8336, 8328, 8330, 8327, 8335, 8340,\n",
       "        8344],\n",
       "       [8352, 8362, 8355, 8345, 8339, 8340, 8332, 8342, 8347, 8342, 8339,\n",
       "        8330],\n",
       "       [8332, 8340, 8347, 8345, 8350, 8351, 8356, 8352, 8342, 8347, 8338,\n",
       "        8330],\n",
       "       [8323, 8318, 8326, 8327, 8331, 8334, 8341, 8350, 8342, 8347, 8354,\n",
       "        8357],\n",
       "       [8363, 8364, 8367, 8374, 8368, 8365, 8365, 8356, 8362, 8364, 8355,\n",
       "        8365],\n",
       "       [8373, 8369, 8379, 8378, 8372, 8377, 8368, 8376, 8382, 8377, 8378,\n",
       "        8375],\n",
       "       [8372, 8362, 8364, 8364, 8357, 8354, 8364, 8373, 8371, 8371, 8370,\n",
       "        8370],\n",
       "       [8379, 8374, 8370, 8373, 8368, 8378, 8372, 8374, 8367, 8365, 8374,\n",
       "        8381],\n",
       "       [8382, 8383, 8392, 8389, 8390, 8400, 8401, 8407, 8417, 8414, 8404,\n",
       "        8394],\n",
       "       [8391, 8398, 8398, 8404, 8397, 8399, 8390, 8391, 8390, 8382, 8381,\n",
       "        8371],\n",
       "       [8377, 8373, 8375, 8378, 8375, 8379, 8374, 8367, 8362, 8368, 8359,\n",
       "        8358],\n",
       "       [8348, 8352, 8348, 8354, 8356, 8366, 8361, 8354, 8351, 8349, 8351,\n",
       "        8346],\n",
       "       [8356, 8364, 8371, 8379, 8370, 8360, 8352, 8361, 8354, 8362, 8360,\n",
       "        8364],\n",
       "       [8360, 8352, 8349, 8339, 8349, 8357, 8352, 8352, 8349, 8358, 8363,\n",
       "        8373],\n",
       "       [8366, 8369, 8365, 8359, 8367, 8377, 8381, 8376, 8383, 8374, 8366,\n",
       "        8362],\n",
       "       [8355, 8347, 8337, 8332, 8330, 8335, 8340, 8336, 8346, 8352, 8353,\n",
       "        8355],\n",
       "       [8345, 8350, 8357, 8351, 8358, 8351, 8357, 8352, 8356, 8346, 8345,\n",
       "        8353],\n",
       "       [8363, 8354, 8359, 8352, 8360, 8354, 8364, 8358, 8356, 8353, 8361,\n",
       "        8356]])"
      ]
     },
     "execution_count": 82,
     "metadata": {},
     "output_type": "execute_result"
    }
   ],
   "source": [
    "# 3.统计某商店的月度销量情况\n",
    "# 使用np.laod 能够加载 .npy格式的数组\n",
    "# 使用np.save(\"文件路径/my_arr.npy\") 将数组保存到本地\n",
    "arr = np.load(\"ch1/shop_sales/product_1.npy\")\n",
    "arr"
   ]
  },
  {
   "attachments": {
    "image.png": {
     "image/png": "[encoded data removed]"
    }
   },
   "cell_type": "markdown",
   "id": "aa7c389d",
   "metadata": {},
   "source": [
    "![image.png](attachment:image.png)"
   ]
  },
  {
   "cell_type": "markdown",
   "id": "399843b9",
   "metadata": {},
   "source": [
    "# 1"
   ]
  },
  {
   "cell_type": "code",
   "execution_count": 85,
   "id": "6ec68279",
   "metadata": {},
   "outputs": [
    {
     "data": {
      "text/plain": [
       "array([[3314912, 3314813, 3314344, 3314658],\n",
       "       [3314965, 3314924, 3315155, 3315207],\n",
       "       [3315169, 3315478, 3315121, 3314961],\n",
       "       [3315252, 3314981, 3314839, 3314647],\n",
       "       [3314999, 3315414, 3315242, 3314982],\n",
       "       [3315122, 3315467, 3315675, 3315566],\n",
       "       [3315401, 3315351, 3315523, 3314939],\n",
       "       [3315361, 3315030, 3315198, 3315806],\n",
       "       [3316498, 3316613, 3317404, 3318257],\n",
       "       [3318885, 3319103, 3318957, 3318554],\n",
       "       [3318289, 3318561, 3318590, 3318763],\n",
       "       [3318894, 3318750, 3317905, 3317625],\n",
       "       [3318514, 3318496, 3318169, 3318211],\n",
       "       [3318139, 3317578, 3317787, 3317781],\n",
       "       [3317914, 3316628, 3316036, 3315521],\n",
       "       [3315071, 3315118, 3314998, 3314716],\n",
       "       [3314095, 3314031, 3314157, 3315044],\n",
       "       [3315246, 3314885, 3314810, 3315130],\n",
       "       [3314823, 3314736, 3314844, 3314723],\n",
       "       [3314876, 3314372, 3314352, 3314491]])"
      ]
     },
     "execution_count": 85,
     "metadata": {},
     "output_type": "execute_result"
    }
   ],
   "source": [
    "path = \"ch1/shop_sales/product_%d.npy\"\n",
    "arr = np.stack([np.load(path%i) for i in range(1, 201)], axis=0)\n",
    "res_1 = arr.reshape(200, 20, 4, -1).sum((0, -1))\n",
    "res_1"
   ]
  },
  {
   "cell_type": "markdown",
   "id": "fb41b593",
   "metadata": {},
   "source": [
    "# 2"
   ]
  },
  {
   "cell_type": "code",
   "execution_count": 90,
   "id": "be4757a6",
   "metadata": {},
   "outputs": [
    {
     "data": {
      "text/plain": [
       "(20, 12)"
      ]
     },
     "execution_count": 90,
     "metadata": {},
     "output_type": "execute_result"
    }
   ],
   "source": [
    "res_2 = arr.var(0)\n",
    "res_2.shape"
   ]
  },
  {
   "cell_type": "markdown",
   "id": "561b5c66",
   "metadata": {},
   "source": [
    "# 3"
   ]
  },
  {
   "cell_type": "code",
   "execution_count": 103,
   "id": "0e8171da",
   "metadata": {},
   "outputs": [
    {
     "data": {
      "text/plain": [
       "(20, 12, 200)"
      ]
     },
     "execution_count": 103,
     "metadata": {},
     "output_type": "execute_result"
    }
   ],
   "source": [
    "rate = np.load(\"ch1/increase_rate.npy\")\n",
    "base = np.load(\"ch1/unit_price.npy\")\n",
    "price = np.empty((200,20*12))\n",
    "n = 14*12 # 2015年对应的索引位置\n",
    "price[:,n] = base\n",
    "price[:, n+1:] = (rate[:, n+1:] + 1).cumprod(-1) * base[:, None]\n",
    "price[:, :n] = 1/(rate[:, 1:n+1] + 1)[:, ::-1].cumprod(-1)[:, ::-1] * base[:, None]\n",
    "price = price.reshape(200, 20, 12).transpose(1, 2, 0)\n",
    "price.shape"
   ]
  },
  {
   "cell_type": "markdown",
   "id": "f3818ea5",
   "metadata": {},
   "source": [
    "# 4"
   ]
  },
  {
   "cell_type": "code",
   "execution_count": 104,
   "id": "54a6712c",
   "metadata": {},
   "outputs": [
    {
     "data": {
      "text/plain": [
       "array([215,  34, 238,  70,  24,  26, 238,   2, 191,   8,   7, 134, 162,\n",
       "        26,   7,   3, 229,  83, 221, 229, 102, 236, 152, 222, 212,   0,\n",
       "        37, 189,  61, 194, 131, 213, 224, 239,   5,   5,   4,   3,   0,\n",
       "       162, 182, 217,  81, 209, 238,   2,   5, 221,  85,  21, 187, 109,\n",
       "       227, 204,  99, 239, 239,  37, 239,  10,  46,  24, 131, 132, 236,\n",
       "       136, 104, 150, 183, 239,  96,   4, 106,   6, 208,  91,   5,  69,\n",
       "        91, 230,  10, 208, 227,  38, 232, 220, 236,  40,   7, 214, 118,\n",
       "        31,  15,  79, 182, 237,   7, 234,  69,  72,   0,  99,  14, 221,\n",
       "       235,   0, 154, 170, 234, 228, 234,  53,   0, 133, 238,   4,  24,\n",
       "       132,   4, 216,  24, 239,  78,  92,  11,   5, 105, 129,  18, 145,\n",
       "       238, 152,  18,  87, 120, 125,  43, 232,  27,  29,  13, 237,  88,\n",
       "         0,  43,  72,  76,  72, 122,   4,  25,   0, 171,  92,   7,   1,\n",
       "       104,  21,  17, 209, 109, 235,  13,  10, 189, 154, 136,  50,   0,\n",
       "       207,  92, 131,   0,   0,  44,  75, 158,  98,   0,  41,  14,   1,\n",
       "        10, 195,  36, 237, 239,   4,  63, 163,  22,  30, 145, 208, 237,\n",
       "       186,  32, 158,  23, 116], dtype=int64)"
      ]
     },
     "execution_count": 104,
     "metadata": {},
     "output_type": "execute_result"
    }
   ],
   "source": [
    "idx = (arr.transpose(1,2,0) * price).reshape(-1,200).argmax(0)\n",
    "idx"
   ]
  }
 ],
 "metadata": {
  "kernelspec": {
   "display_name": "Python 3 (ipykernel)",
   "language": "python",
   "name": "python3"
  },
  "language_info": {
   "codemirror_mode": {
    "name": "ipython",
    "version": 3
   },
   "file_extension": ".py",
   "mimetype": "text/x-python",
   "name": "python",
   "nbconvert_exporter": "python",
   "pygments_lexer": "ipython3",
   "version": "3.9.13"
  }
 },
 "nbformat": 4,
 "nbformat_minor": 5
}
