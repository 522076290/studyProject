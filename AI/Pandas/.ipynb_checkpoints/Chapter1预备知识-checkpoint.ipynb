{
 "cells": [
  {
   "cell_type": "markdown",
   "id": "fd409405",
   "metadata": {},
   "source": [
    "# P3 练一练"
   ]
  },
  {
   "cell_type": "code",
   "execution_count": 6,
   "id": "9b79b2c4",
   "metadata": {},
   "outputs": [
    {
     "data": {
      "text/plain": [
       "{'apple': 5, 'banana': 6, 'peach': 5, 'pineapple': 9, 'watermelon': 10}"
      ]
     },
     "execution_count": 6,
     "metadata": {},
     "output_type": "execute_result"
    }
   ],
   "source": [
    "en_list = [\"apple\", \"banana\", \"peach\", \"pineapple\", \"watermelon\"]\n",
    "en_dict = {word: len(word) for word in en_list}\n",
    "en_dict"
   ]
  },
  {
   "cell_type": "markdown",
   "id": "58a437e4",
   "metadata": {},
   "source": [
    "# p4 练一练"
   ]
  },
  {
   "cell_type": "code",
   "execution_count": 28,
   "id": "de6c78ae",
   "metadata": {},
   "outputs": [],
   "source": [
    "import random \n",
    "random.seed(0)\n",
    "n = 10000\n",
    "L1 = [[random.randint(-n,n) for j in range(20)] for i in range(30)]\n",
    "L2 = [[random.randint(-n,n) for j in range(20)] for i in range(30)]\n",
    "L3 = [[random.randint(-n,n) for j in range(20)] for i in range(30)]\n",
    "L_new = [[min(L1[i][j],L2[i][j],L3[i][j],) for j in range(20)]for i in range(30)]"
   ]
  },
  {
   "cell_type": "markdown",
   "id": "ea3d4dd1",
   "metadata": {},
   "source": [
    "# p5 练一练"
   ]
  },
  {
   "cell_type": "code",
   "execution_count": 31,
   "id": "7565be17",
   "metadata": {},
   "outputs": [
    {
     "data": {
      "text/plain": [
       "[[3, 4, 5], [6], [9]]"
      ]
     },
     "execution_count": 31,
     "metadata": {},
     "output_type": "execute_result"
    }
   ],
   "source": [
    "my_list = [[1, 2], [3, 4, 5], [6], [7, 8], [9]]\n",
    "list(filter(lambda x:any(i%3==0 for i in x),my_list))"
   ]
  },
  {
   "cell_type": "markdown",
   "id": "acfc29ea",
   "metadata": {},
   "source": [
    "# p14 练一练"
   ]
  },
  {
   "cell_type": "code",
   "execution_count": 2,
   "id": "53817b7b",
   "metadata": {},
   "outputs": [
    {
     "data": {
      "text/plain": [
       "True"
      ]
     },
     "execution_count": 2,
     "metadata": {},
     "output_type": "execute_result"
    }
   ],
   "source": [
    "import numpy as np\n",
    "# split()函数更类似于concatenate()的逆操作，首先stack必须由多个尺寸相同的数组来拼接\n",
    "# 新产生的维度大小取决于拼接数组的数量，而concatenate的被拼接数组在拼接维度上可以不一致且不会产生新维度\n",
    "\n",
    "arr = np.random.rand(10,20,30)\n",
    "arr_new = np.concatenate(np.split(arr, indices_or_sections=5, axis=1),axis=1)\n",
    "(arr == arr_new).all()"
   ]
  },
  {
   "cell_type": "markdown",
   "id": "eb63b756",
   "metadata": {},
   "source": [
    "# p15 练一练"
   ]
  },
  {
   "cell_type": "code",
   "execution_count": 5,
   "id": "b6bfb5c4",
   "metadata": {},
   "outputs": [
    {
     "name": "stdout",
     "output_type": "stream",
     "text": [
      "[[ 1  1  1  1  1  1  1  1  1  1]\n",
      " [ 2  2  2  2  2  2  2  2  2  2]\n",
      " [ 3  3  3  3  3  3  3  3  3  3]\n",
      " [ 4  4  4  4  4  4  4  4  4  4]\n",
      " [ 5  5  5  5  5  5  5  5  5  5]\n",
      " [ 6  6  6  6  6  6  6  6  6  6]\n",
      " [ 7  7  7  7  7  7  7  7  7  7]\n",
      " [ 8  8  8  8  8  8  8  8  8  8]\n",
      " [ 9  9  9  9  9  9  9  9  9  9]\n",
      " [10 10 10 10 10 10 10 10 10 10]]\n",
      "[[ 1  2  3  4  5  6  7  8  9 10]\n",
      " [ 1  2  3  4  5  6  7  8  9 10]\n",
      " [ 1  2  3  4  5  6  7  8  9 10]\n",
      " [ 1  2  3  4  5  6  7  8  9 10]\n",
      " [ 1  2  3  4  5  6  7  8  9 10]\n",
      " [ 1  2  3  4  5  6  7  8  9 10]\n",
      " [ 1  2  3  4  5  6  7  8  9 10]\n",
      " [ 1  2  3  4  5  6  7  8  9 10]\n",
      " [ 1  2  3  4  5  6  7  8  9 10]\n",
      " [ 1  2  3  4  5  6  7  8  9 10]]\n"
     ]
    }
   ],
   "source": [
    "import numpy as np\n",
    "arr = np.arange(1,11)\n",
    "rep_1 = np.repeat(arr[:,None],10,-1)\n",
    "print(rep_1)\n",
    "rep_2 = np.repeat(arr[None,:],10,0)\n",
    "print(rep_2)"
   ]
  },
  {
   "cell_type": "markdown",
   "id": "d74c4473",
   "metadata": {},
   "source": [
    "# p16 练一练"
   ]
  },
  {
   "cell_type": "code",
   "execution_count": 11,
   "id": "c0053b56",
   "metadata": {},
   "outputs": [
    {
     "name": "stdout",
     "output_type": "stream",
     "text": [
      "[[0.11146592 0.22154628 0.81564462 0.92802823 0.35052548]\n",
      " [0.17388639 0.32958233 0.20550496 0.69422004 0.64507786]\n",
      " [0.23080389 0.36966191 0.99560592 0.13064371 0.72175262]\n",
      " [0.4394452  0.46073665 0.90982901 0.97266229 0.96800724]\n",
      " [0.17485086 0.80183161 0.13659289 0.76195008 0.03543626]\n",
      " [0.53732915 0.69831498 0.24044039 0.16598343 0.34455388]\n",
      " [0.84028273 0.45600868 0.28311289 0.46146429 0.69497182]\n",
      " [0.5935381  0.51512094 0.80164462 0.21294361 0.97860625]\n",
      " [0.08963843 0.74222478 0.63427553 0.11180069 0.85992604]\n",
      " [0.06077229 0.60875632 0.60779286 0.60506006 0.27490406]]\n"
     ]
    },
    {
     "data": {
      "text/plain": [
       "array([[0.74222478, 0.11180069],\n",
       "       [0.69831498, 0.16598343],\n",
       "       [0.36966191, 0.13064371]])"
      ]
     },
     "execution_count": 11,
     "metadata": {},
     "output_type": "execute_result"
    }
   ],
   "source": [
    "arr = np.random.rand(10,5)\n",
    "print(arr)\n",
    "arr[-2:-10:-3,1:-1:2]"
   ]
  },
  {
   "cell_type": "markdown",
   "id": "d8d3894f",
   "metadata": {},
   "source": [
    "# p19 练一练"
   ]
  },
  {
   "cell_type": "code",
   "execution_count": 19,
   "id": "153d31d0",
   "metadata": {},
   "outputs": [
    {
     "name": "stdout",
     "output_type": "stream",
     "text": [
      "[[4 2 3]\n",
      " [4 4 2]\n",
      " [4 3 4]\n",
      " [3 3 1]\n",
      " [1 1 2]]\n",
      "[25 20 30]\n"
     ]
    },
    {
     "data": {
      "text/plain": [
       "array([[100,  40,  90],\n",
       "       [100,  80,  60],\n",
       "       [100,  60, 120],\n",
       "       [ 75,  60,  30],\n",
       "       [ 25,  20,  60]])"
      ]
     },
     "execution_count": 19,
     "metadata": {},
     "output_type": "execute_result"
    }
   ],
   "source": [
    "# 假设顾客购买某件商品的件数为0-4\n",
    "piece = np.random.randint(0,5,(5,3))\n",
    "price = np.array([25,20,30]) # 假设给定的单价是25、20和30\n",
    "price[:, None] # newaxis即None\n",
    "price.reshape(-1, 1)\n",
    "np.expand_dims(price, -1)\n",
    "print(piece)\n",
    "print(price)\n",
    "piece*price"
   ]
  },
  {
   "cell_type": "markdown",
   "id": "a2ce1712",
   "metadata": {},
   "source": [
    "# p20 练一练"
   ]
  },
  {
   "cell_type": "code",
   "execution_count": 25,
   "id": "4d47a0b1",
   "metadata": {},
   "outputs": [
    {
     "name": "stdout",
     "output_type": "stream",
     "text": [
      "(3,)\n",
      "[[[31 36 37 29]\n",
      "  [35 37 37 20]\n",
      "  [21 29 26 21]]\n",
      "\n",
      " [[24 37 33 24]\n",
      "  [23 24 23 36]\n",
      "  [23 37 25 25]]]\n"
     ]
    },
    {
     "data": {
      "text/plain": [
       "array([251, 235, 207])"
      ]
     },
     "execution_count": 25,
     "metadata": {},
     "output_type": "execute_result"
    }
   ],
   "source": [
    "my_martix = np.random.randint(20,40,24).reshape(2,3,4)\n",
    "print(my_martix.sum((0,2)).shape)\n",
    "print(my_martix)\n",
    "my_martix.sum((0,2))"
   ]
  },
  {
   "cell_type": "markdown",
   "id": "36cb970c",
   "metadata": {},
   "source": [
    "# p21 练一练"
   ]
  },
  {
   "cell_type": "code",
   "execution_count": 28,
   "id": "0061d797",
   "metadata": {
    "scrolled": true
   },
   "outputs": [
    {
     "name": "stdout",
     "output_type": "stream",
     "text": [
      "[[1.01257377 1.07577016 2.39698383 1.67921095]\n",
      " [1.83591261 1.29710264 2.03407942 1.09561583]\n",
      " [1.39763445 1.52693373 2.0128098  1.72100057]\n",
      " [1.39964053 1.21254445 2.24061827 2.70196464]]\n"
     ]
    },
    {
     "data": {
      "text/plain": [
       "array([[0.16425783, 0.17450943, 0.38883426, 0.27239848],\n",
       "       [0.29314984, 0.20711522, 0.32479218, 0.17494276],\n",
       "       [0.20990613, 0.22932516, 0.30229729, 0.25847142],\n",
       "       [0.18526585, 0.16050056, 0.29658334, 0.35765025]])"
      ]
     },
     "execution_count": 28,
     "metadata": {},
     "output_type": "execute_result"
    }
   ],
   "source": [
    "arr = np.random.rand(4,4)\n",
    "exp_arr=np.exp(arr)\n",
    "res = exp_arr / exp_arr.sum(1)[:,None]\n",
    "print(exp_arr)\n",
    "res"
   ]
  },
  {
   "cell_type": "markdown",
   "id": "e0172e3c",
   "metadata": {},
   "source": [
    "# p22 练一练"
   ]
  },
  {
   "cell_type": "code",
   "execution_count": 43,
   "id": "8d3a62a4",
   "metadata": {},
   "outputs": [
    {
     "name": "stdout",
     "output_type": "stream",
     "text": [
      "[ True]\n",
      "[False]\n",
      "[ True]\n",
      "[[ True  True]\n",
      " [ True False]]\n"
     ]
    }
   ],
   "source": [
    "#1\n",
    "a = np.array([True])\n",
    "b = np.array([False])\n",
    "\n",
    "print(~a | a) # 说明not优先级高于or\n",
    "\n",
    "print(~b & b) # 说明not优先级高于and\n",
    "\n",
    "print(a | b & b) # 说明and优先级高于or\n",
    "\n",
    "a = np.array([True, False])\n",
    "b = np.array([True, False])\n",
    "print(a | b[:, None]) # 广播\n",
    "\n",
    "a = np.random.randint(0, 100, (5, 5))\n",
    "np.where(a == a.max(1)[:, None], 1, 0)\n",
    "\n",
    "\n",
    "\n",
    "#2\n",
    "my_array = np.random.rand(1000, 3)\n",
    "arr = my_array.round()\n",
    "arr_1 = arr[arr.sum(1) <= 1]  # 行元素至多有一个1\n",
    "arr_2 = arr[~arr.all(1)]    #行元素至少有一个0\n",
    "arr_3 = arr[~arr.all(1) & ~(1-arr).all(1)] #行元素既非全0又非全1"
   ]
  },
  {
   "cell_type": "markdown",
   "id": "886ea310",
   "metadata": {},
   "source": [
    "# p23 练一练"
   ]
  },
  {
   "cell_type": "code",
   "execution_count": 45,
   "id": "f43713ff",
   "metadata": {},
   "outputs": [
    {
     "data": {
      "text/plain": [
       "array([2, 2, 3, 4, 4])"
      ]
     },
     "execution_count": 45,
     "metadata": {},
     "output_type": "execute_result"
    }
   ],
   "source": [
    "arr = np.array([1, 2, 3, 4, 5])\n",
    "np.clip(arr,2,4)\n",
    "res = np.where(arr<=4, arr, 4)\n",
    "res = np.where(arr>=2, res, 2)\n",
    "res"
   ]
  },
  {
   "cell_type": "markdown",
   "id": "0b7f2cc9",
   "metadata": {},
   "source": [
    "# p24 练一练"
   ]
  },
  {
   "cell_type": "code",
   "execution_count": 50,
   "id": "98683eb6",
   "metadata": {},
   "outputs": [
    {
     "data": {
      "text/plain": [
       "array([1, 2])"
      ]
     },
     "execution_count": 50,
     "metadata": {},
     "output_type": "execute_result"
    }
   ],
   "source": [
    "a = np.array([[0,1],[0,2]])\n",
    "# x为所有非零元素在dim=0上的索引，y为所有元素在dim=1上的索引\n",
    "x, y = np.nonzero(a)\n",
    "a[x, y]"
   ]
  },
  {
   "cell_type": "markdown",
   "id": "e38e451f",
   "metadata": {},
   "source": [
    "# 习题"
   ]
  },
  {
   "cell_type": "code",
   "execution_count": 65,
   "id": "2a3e8b9b",
   "metadata": {},
   "outputs": [
    {
     "name": "stdout",
     "output_type": "stream",
     "text": [
      "[[0 1 2]\n",
      " [3 4 5]]\n",
      "[[0 1]\n",
      " [2 3]\n",
      " [4 5]]\n"
     ]
    },
    {
     "data": {
      "text/plain": [
       "[[10, 13], [28, 40]]"
      ]
     },
     "execution_count": 65,
     "metadata": {},
     "output_type": "execute_result"
    }
   ],
   "source": [
    "# 1.基于列表推导式的矩阵乘法\n",
    "# 在numpy中可以使用“@”符号来进行矩阵乘法\n",
    "A = np.arange(6).reshape(2,-1)\n",
    "B = np.arange(6).reshape(3,-1)\n",
    "print(A)\n",
    "print(B)\n",
    "# 列表推导式\n",
    "res = [\n",
    "    [\n",
    "        sum(\n",
    "            A[i][k] * B[k][j]\n",
    "            for k in range(A.shape[1])\n",
    "        )\n",
    "        for j in range(B.shape[1])\n",
    "    ] for i in range(A.shape[0])\n",
    "]\n",
    "res"
   ]
  },
  {
   "cell_type": "code",
   "execution_count": null,
   "id": "53a4a256",
   "metadata": {},
   "outputs": [],
   "source": [
    "# 2.计算卡方统计量"
   ]
  }
 ],
 "metadata": {
  "kernelspec": {
   "display_name": "Python 3 (ipykernel)",
   "language": "python",
   "name": "python3"
  },
  "language_info": {
   "codemirror_mode": {
    "name": "ipython",
    "version": 3
   },
   "file_extension": ".py",
   "mimetype": "text/x-python",
   "name": "python",
   "nbconvert_exporter": "python",
   "pygments_lexer": "ipython3",
   "version": "3.9.13"
  }
 },
 "nbformat": 4,
 "nbformat_minor": 5
}
